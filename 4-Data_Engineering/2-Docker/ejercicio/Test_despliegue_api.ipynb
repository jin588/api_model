{
 "cells": [
  {
   "cell_type": "markdown",
   "metadata": {},
   "source": [
    "# Test y Despliegue"
   ]
  },
  {
   "cell_type": "markdown",
   "metadata": {},
   "source": [
    "\n",
    "Partes de la aplicación Flask de la anterior tarea, que contiene una API con tres endpoints: /ingest, /predict, y /retrain. Sin embargo, hay problemas identificados en la aplicación que impiden que pase los tests provistos.\n",
    "\n",
    "Las tareas principales son:\n",
    "\n",
    "1. **Debugging de la Aplicación Flask:**\n",
    "La aplicación Flask tiene problemas que impiden que pase los tests proporcionados. Los tests cubren la funcionalidad de los tres endpoints, verificando su correcto funcionamiento y las respuestas esperadas. Tus tareas son:\n",
    "\n",
    "* Identificar y corregir los problemas en la aplicación para que pase los tests proporcionados.\n",
    "* Asegurar que la lógica de los endpoints cumpla con las especificaciones dadas.\n",
    "\n",
    "2. **Despliegue en Docker Hub:**\n",
    "Una vez que la aplicación pasa los tests y está funcionando correctamente de manera local, se requiere desplegar la aplicación en Docker Hub para facilitar su despliegue en diferentes equipos. Tus tareas son:\n",
    "\n",
    "* Crear un Dockerfile adecuado para la aplicación Flask.\n",
    "* Construir una imagen Docker de la aplicación.\n",
    "* Subir la imagen de la aplicación a Docker Hub.\n",
    "\n",
    "La aplicación debe pasar los tests proporcionados después de realizar correccione y debe ser desplegada en Docker Hub correctamente.\n",
    "Se evaluará en directo el resultado de vuestros despliegues.\n",
    "\n",
    "**Entrega**:\n",
    "La URL de Docker Hub donde se ha subido la imagen de la aplicación"
   ]
  },
  {
   "cell_type": "code",
   "execution_count": 2,
   "metadata": {},
   "outputs": [
    {
     "name": "stdout",
     "output_type": "stream",
     "text": [
      "Collecting pytestNote: you may need to restart the kernel to use updated packages.\n",
      "\n",
      "  Obtaining dependency information for pytest from https://files.pythonhosted.org/packages/f3/8c/f16efd81ca8e293b2cc78f111190a79ee539d0d5d36ccd49975cb3beac60/pytest-7.4.3-py3-none-any.whl.metadata\n",
      "  Downloading pytest-7.4.3-py3-none-any.whl.metadata (7.9 kB)\n",
      "Collecting iniconfig (from pytest)\n",
      "  Downloading iniconfig-2.0.0-py3-none-any.whl (5.9 kB)\n",
      "Requirement already satisfied: packaging in c:\\users\\asus\\appdata\\roaming\\python\\python311\\site-packages (from pytest) (23.2)\n",
      "Collecting pluggy<2.0,>=0.12 (from pytest)\n",
      "  Obtaining dependency information for pluggy<2.0,>=0.12 from https://files.pythonhosted.org/packages/05/b8/42ed91898d4784546c5f06c60506400548db3f7a4b3fb441cba4e5c17952/pluggy-1.3.0-py3-none-any.whl.metadata\n",
      "  Downloading pluggy-1.3.0-py3-none-any.whl.metadata (4.3 kB)\n",
      "Requirement already satisfied: colorama in c:\\users\\asus\\appdata\\roaming\\python\\python311\\site-packages (from pytest) (0.4.6)\n",
      "Downloading pytest-7.4.3-py3-none-any.whl (325 kB)\n",
      "   ---------------------------------------- 0.0/325.1 kB ? eta -:--:--\n",
      "   - -------------------------------------- 10.2/325.1 kB ? eta -:--:--\n",
      "   --- ----------------------------------- 30.7/325.1 kB 660.6 kB/s eta 0:00:01\n",
      "   ------- ------------------------------- 61.4/325.1 kB 656.4 kB/s eta 0:00:01\n",
      "   ------------- ------------------------ 112.6/325.1 kB 656.4 kB/s eta 0:00:01\n",
      "   ----------------- -------------------- 153.6/325.1 kB 706.2 kB/s eta 0:00:01\n",
      "   ---------------------- --------------- 194.6/325.1 kB 784.3 kB/s eta 0:00:01\n",
      "   -------------------------------- ----- 276.5/325.1 kB 896.4 kB/s eta 0:00:01\n",
      "   -------------------------------------- 325.1/325.1 kB 915.2 kB/s eta 0:00:00\n",
      "Downloading pluggy-1.3.0-py3-none-any.whl (18 kB)\n",
      "Installing collected packages: pluggy, iniconfig, pytest\n",
      "Successfully installed iniconfig-2.0.0 pluggy-1.3.0 pytest-7.4.3\n"
     ]
    },
    {
     "name": "stderr",
     "output_type": "stream",
     "text": [
      "\n",
      "[notice] A new release of pip is available: 23.2.1 -> 23.3.1\n",
      "[notice] To update, run: python.exe -m pip install --upgrade pip\n"
     ]
    }
   ],
   "source": [
    "pip install pytest"
   ]
  },
  {
   "cell_type": "code",
   "execution_count": 1,
   "metadata": {},
   "outputs": [
    {
     "ename": "SyntaxError",
     "evalue": "invalid syntax (1872345968.py, line 1)",
     "output_type": "error",
     "traceback": [
      "\u001b[1;36m  Cell \u001b[1;32mIn[1], line 1\u001b[1;36m\u001b[0m\n\u001b[1;33m    pip install pytest\u001b[0m\n\u001b[1;37m        ^\u001b[0m\n\u001b[1;31mSyntaxError\u001b[0m\u001b[1;31m:\u001b[0m invalid syntax\n"
     ]
    }
   ],
   "source": [
    "pip install pytest\n",
    "# pytest test_api.py"
   ]
  },
  {
   "cell_type": "code",
   "execution_count": null,
   "metadata": {},
   "outputs": [],
   "source": [
    "import requests\n",
    "\n",
    "def test_ingest_endpoint():\n",
    "    url = 'http://localhost:5000/ingest'  \n",
    "    data = {'data': [[100, 100, 200, 3000], [200, 230, 500, 4000]]}\n",
    "    response = requests.post(url, json=data)\n",
    "    assert response.status_code == 200\n",
    "    assert response.json() == {'message': 'Datos ingresados correctamente'}\n",
    "\n",
    "def test_predict_endpoint():\n",
    "    url = 'http://localhost:5000/predict'  \n",
    "    data = {'data': [[100, 100, 200]]} \n",
    "    \n",
    "    response = requests.get(url, json=data)\n",
    "    assert response.status_code == 200\n",
    "    assert 'prediction' in response.json()\n",
    "\n",
    "def test_retrain_endpoint():\n",
    "    url = 'http://localhost:5000/retrain'  \n",
    "    response = requests.post(url)\n",
    "    assert response.status_code == 200\n",
    "    assert response.json() == {'message': 'Modelo reentrenado correctamente.'}\n"
   ]
  }
 ],
 "metadata": {
  "kernelspec": {
   "display_name": "Python 3",
   "language": "python",
   "name": "python3"
  },
  "language_info": {
   "codemirror_mode": {
    "name": "ipython",
    "version": 3
   },
   "file_extension": ".py",
   "mimetype": "text/x-python",
   "name": "python",
   "nbconvert_exporter": "python",
   "pygments_lexer": "ipython3",
   "version": "3.11.5"
  }
 },
 "nbformat": 4,
 "nbformat_minor": 2
}
