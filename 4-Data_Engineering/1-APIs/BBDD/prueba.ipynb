{
 "cells": [
  {
   "cell_type": "code",
   "execution_count": 1,
   "metadata": {},
   "outputs": [],
   "source": [
    "import requests"
   ]
  },
  {
   "cell_type": "code",
   "execution_count": 2,
   "metadata": {},
   "outputs": [],
   "source": [
    "url = \"http://127.0.0.1:5000/\"\n",
    "response = requests.get(url)"
   ]
  },
  {
   "cell_type": "code",
   "execution_count": 6,
   "metadata": {},
   "outputs": [
    {
     "name": "stdout",
     "output_type": "stream",
     "text": [
      "b'<h1>My first API</h1><p>This site is a prototype API for distant reading of science fiction novels.</p>'\n"
     ]
    }
   ],
   "source": [
    "if response.status_code == 200:\n",
    "    print(response.content)\n",
    "else:\n",
    "    print(\"Error al realizar la solicitud\", response.status_code)"
   ]
  },
  {
   "cell_type": "code",
   "execution_count": 7,
   "metadata": {},
   "outputs": [],
   "source": [
    "def call_endpoint(url):\n",
    "    response = requests.get(url)\n",
    "    if response.status_code == 200:\n",
    "        print(response.content)\n",
    "    else:\n",
    "        print(\"Error al realizar la solicitud\", response.status_code)"
   ]
  },
  {
   "cell_type": "code",
   "execution_count": 9,
   "metadata": {},
   "outputs": [
    {
     "name": "stdout",
     "output_type": "stream",
     "text": [
      "b'[\\n  {\\n    \"author\": \"Vernor Vinge\",\\n    \"first_sentence\": \"The coldsleep itself was dreamless.\",\\n    \"id\": 0,\\n    \"published\": \"1992\",\\n    \"title\": \"A Fire Upon the Deep\"\\n  },\\n  {\\n    \"author\": \"Ursula K. Le Guin\",\\n    \"first_sentence\": \"With a clamor of bells that set the swallows soaring, the Festival of Summer came to the city Omelas, bright-towered by the sea.\",\\n    \"id\": 1,\\n    \"published\": \"1973\",\\n    \"title\": \"The Ones Who Walk Away From Omelas\"\\n  },\\n  {\\n    \"author\": \"Samuel R. Delany\",\\n    \"first_sentence\": \"to wound the autumnal city.\",\\n    \"id\": 2,\\n    \"published\": \"1975\",\\n    \"title\": \"Dhalgren\"\\n  }\\n]\\n'\n"
     ]
    }
   ],
   "source": [
    "url = \"http://127.0.0.1:5000/v0/books\"\n",
    "call_endpoint(url)"
   ]
  }
 ],
 "metadata": {
  "kernelspec": {
   "display_name": "Python 3",
   "language": "python",
   "name": "python3"
  },
  "language_info": {
   "codemirror_mode": {
    "name": "ipython",
    "version": 3
   },
   "file_extension": ".py",
   "mimetype": "text/x-python",
   "name": "python",
   "nbconvert_exporter": "python",
   "pygments_lexer": "ipython3",
   "version": "3.11.3"
  },
  "orig_nbformat": 4
 },
 "nbformat": 4,
 "nbformat_minor": 2
}
