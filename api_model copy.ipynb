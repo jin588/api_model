{
 "cells": [
  {
   "attachments": {},
   "cell_type": "markdown",
   "metadata": {},
   "source": [
    "# Ejercicio Flask API\n",
    "Para este ejercicio tendrás que desplegar un modelo de machine learning en una API para su consumo. Ya tienes un modelo entrenado,desarrollarás una API que permita consumir dicho modelo desde cualquier otra tecnología.\n",
    "\n",
    "**Se presenta el siguiente caso de uso**\n",
    "\n",
    "Una empresa distribuidora de ámbito nacional pretende utilizar un modelo desarrollado por el departamento de data science, con el que consiguen una predicción de las ventas a partir de los gastos en marketing de anuncios en televisión, radio y periódicos. Quieren incorporar estos datos dentro de su página web interna, donde comparten todo tipo de información relativa a resultados de la empresa, ventas, adquisiciones, etc... La web está desarrollada en AngularJS, mientras que el modelo se desarrolló en Python, por lo que precisamos de una interfaz de comunicación entre ambos sistemas.\n",
    "\n",
    "El equipo de desarrollo necesita que implementes un microservicio para que ellos puedan consumir el modelo desde la propia web, comunicándose con una BBDD para ingestar o reentrenar el modelo. No vale base de datos en csv. El microservicio tiene que cumplir las siguientes características:\n",
    "1. Ofrezca la predicción de ventas a partir de todos los valores de gastos en publicidad. (/v2/predict)\n",
    "2. Un endpoint para almacenar nuevos registros en la base de datos que deberás crear previamente.(/v2/ingest_data)\n",
    "3. Posibilidad de reentrenar de nuevo el modelo con los posibles nuevos registros que se recojan. (/v2/retrain)\n",
    "\n",
    "\n",
    "**NOTAS**: \n",
    "1. Deberás desplegarlo desde un repositorio de github.\n",
    "2. Ojo con la ruta para hacer el load de tu modelo y datos, comprueba cual es la ruta en la que está buscándolo.\n",
    "3. El desarrollo de un modelo de machine learning no es el objetivo del ejercicio, sino el desarrollo de una API con Flask.\n",
    "\n",
    "**Entregable**: repositorio github."
   ]
  },
  {
   "cell_type": "code",
   "execution_count": null,
   "metadata": {},
   "outputs": [],
   "source": [
    "from flask import Flask, request, jsonify\n",
    "from flask_sqlalchemy import SQLAlchemy\n",
    "import os\n",
    "import pickle\n",
    "from sklearn.linear_model import LinearRegression\n",
    "\n",
    "app = Flask(__name__)\n",
    "app.config['DEBUG'] = True\n",
    "app.config['SQLALCHEMY_DATABASE_URI'] = 'sqlite:///sales.db'\n",
    "db = SQLAlchemy(app)\n",
    "\n",
    "class Sales(db.Model):\n",
    "    id = db.Column(db.Integer, primary_key=True)\n",
    "    tv = db.Column(db.Float, nullable=False)\n",
    "    radio = db.Column(db.Float, nullable=False)\n",
    "    newspaper = db.Column(db.Float, nullable=False)\n",
    "    sales = db.Column(db.Float, nullable=False)\n",
    "\n",
    "@app.route('/v2/predict', methods=['GET'])\n",
    "def predict():\n",
    "    model = pickle.load(open('advertising_model.pkl','rb'))\n",
    "\n",
    "    tv = request.args.get('tv', None)\n",
    "    radio = request.args.get('radio', None)\n",
    "    newspaper = request.args.get('newspaper', None)\n",
    "\n",
    "    if tv is None or radio is None or newspaper is None:\n",
    "        return \"Missing args, the input values are needed to predict\"\n",
    "    else:\n",
    "        prediction = model.predict([[float(tv),float(radio),float(newspaper)]])\n",
    "        return \"The prediction of sales investing that amount of money in TV, radio and newspaper is: \" + str(round(prediction[0],2)) + 'k €'\n",
    "\n",
    "@app.route('/v2/ingest_data', methods=['POST'])\n",
    "def ingest_data():\n",
    "    data = request.get_json()\n",
    "    new_sale = Sales(tv=data['tv'], radio=data['radio'], newspaper=data['newspaper'], sales=data['sales'])\n",
    "    db.session.add(new_sale)\n",
    "    db.session.commit()\n",
    "    return jsonify({'message': 'New data ingested successfully'})\n",
    "\n",
    "@app.route('/v2/retrain', methods=['GET'])\n",
    "def retrain():\n",
    "    data = Sales.query.all()\n",
    "    X = [[d.tv, d.radio, d.newspaper] for d in data]\n",
    "    y = [d.sales for d in data]\n",
    "\n",
    "    model = LinearRegression()\n",
    "    model.fit(X, y)\n",
    "\n",
    "    pickle.dump(model, open('advertising_model.pkl', 'wb'))\n",
    "\n",
    "    return jsonify({'message': 'Model retrained successfully'})\n",
    "\n",
    "if __name__ == '__main__':\n",
    "    app.run()"
   ]
  }
 ],
 "metadata": {
  "kernelspec": {
   "display_name": "Python 3.7.4 64-bit",
   "language": "python",
   "name": "python3"
  },
  "language_info": {
   "codemirror_mode": {
    "name": "ipython",
    "version": 3
   },
   "file_extension": ".py",
   "mimetype": "text/x-python",
   "name": "python",
   "nbconvert_exporter": "python",
   "pygments_lexer": "ipython3",
   "version": "3.7.4"
  },
  "orig_nbformat": 4,
  "vscode": {
   "interpreter": {
    "hash": "90139cb9a825bf3d63f6f6704e828dbd1ff7edbd4d0c6e906a71235d6efc74af"
   }
  }
 },
 "nbformat": 4,
 "nbformat_minor": 2
}
